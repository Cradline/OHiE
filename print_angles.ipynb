{
 "cells": [
  {
   "cell_type": "code",
   "execution_count": 1,
   "metadata": {},
   "outputs": [],
   "source": [
    "import logging\n",
    "from math import *\n",
    "\n",
    "# Logging: Feil, Varsler, Info & Debug\n",
    "logging.basicConfig(level=logging.ERROR)\n",
    "logger = logging.getLogger(__name__)\n",
    "\n",
    "class IK:\n",
    "\n",
    "    # Servos telles fra bunn til topp.\n",
    "    # Lenkeparametre:\n",
    "    l1 = 8.00       # Distansen fra senter av basen (servo1) til servo2: 6.10 cm.\n",
    "                    # Må kanskje padde l1 litt mtp hjul og chassis\n",
    "    l2 = 6.50       # Distansen fra servo2 til servo3: 10.16 cm.\n",
    "    l3 = 6.20       # Distansen fra servo3 til servo4: 9.64 cm.\n",
    "    l4 = 10.00      # Distansen fra servo4 aksen til tuppen på kloa: 10.0 cm.\n",
    "\n",
    "    def __init__(self, arm_type):\n",
    "        # Kan legge til prismatiske ledd her senere \n",
    "        self.arm_type = arm_type\n",
    "        self.arm_type == 'arm'\n",
    "\n",
    "    def setLinkLength(self, L1=l1, L2=l2, L3=l3, L4=l4):\n",
    "        # Kan endre lengden på lenker her dersom prismatiske ledd introduseres\n",
    "        # eller hvis manuell justering av parametre blir nødvendig\n",
    "        self.l1 = L1\n",
    "        self.l2 = L2\n",
    "        self.l3 = L3\n",
    "        self.l4 = L4\n",
    "\n",
    "    def getLinkLength(self):\n",
    "        # Henter ut lengdene på lenkene\n",
    "        return {\"L1\":self.l1, \"L2\":self.l2, \"L3\":self.l3, \"L4\":self.l4}\n",
    "\n",
    "    def getRotationAngle(self, coordinate_data, Alpha):\n",
    "            # Gitt koordinater og pitch angle 'Alpha', returnerer vinkler for hvert ledd.\n",
    "            # Returnerer 'False' hvis ingen gyldig løsning.\n",
    "            # Alpha er vinkelen mellom ende-effektor og XY-planet i grader.\n",
    "            # Alpha er også vinkelen mellom CD og PC.\n",
    "            # P(X,Y,Z) er ende-effektoren. O er origo, projisert på bakken under servo1.\n",
    "            # Punkt A er leddet mellom l1 og l2, punkt B er leddet mellom l2 og l3\n",
    "            # og punkt C er leddet mellom l3 og l4. CD er ortogonal med PD og Z-aksen.\n",
    "            # Vinkler er representert på følgende måte: Vinkel mellom AB og BC er ABC.\n",
    "\n",
    "            X, Y, Z = coordinate_data\n",
    "\n",
    "            # Theta_6 = rotasjonsvinkel til baseledd (servo1); rotasjon rundt Z_0.\n",
    "            theta6 = degrees(atan2(Y, X))\n",
    "\n",
    "            P_O = sqrt(X*X + Y*Y)                   # Distanse fra Origo til ende-effektor\n",
    "            CD = self.l4 * cos(radians(Alpha))      # Lengde (X) fra ledd-C til ende-effektor (hjelpe-punkt D)\n",
    "            PD = self.l4 * sin(radians(Alpha))      # Høyde (Z) fra ledd-C til ende-effektor, (hjelpe-punkt D). Alpha pos -> PD = pos, Alpha neg -> PD = neg.\n",
    "            AF = P_O - CD                           # Distanse fra Origo (eller A) til hjelpe-punkt F, langs X i XZ.  \n",
    "            CF = Z - self.l1 - PD                   # Høyde (Z) mellom C og hjelpe-punkt F\n",
    "            AC = sqrt(pow(AF, 2) + pow(CF, 2))      # Distance mellom punkt A og C, via hjelpe-punkt F\n",
    "\n",
    "            # Sjekker at høydeverdi er konsistent med verdensrammen.\n",
    "            if round(CF, 4) < -self.l1:\n",
    "                logger.debug('Høyde under 0, CF(%s)<l1(%s)', CF, -self.l1)\n",
    "                return False\n",
    "            if self.l2 + self.l3 < round(AC, 4): # Summen av de to sidene er mindre enn den tredje\n",
    "                logger.debug('Ugyldig koblingsmekanisme, l2(%s) + l3(%s) < AC(%s)', self.l2, self.l3, AC)\n",
    "                return False\n",
    "            \n",
    "            # Theta_4. phi_B = vinkel ABC, mellom AB og BC\n",
    "            cos_ABC = round((pow(self.l2, 2) + pow(self.l3, 2) - pow(AC, 2))/(2*self.l2*self.l3), 4) # Law of cosines\n",
    "            if abs(cos_ABC) > 1:\n",
    "                logger.debug('Ugyldig koblingsmekanisme, abs(cos_phi_B(%s)) > 1', cos_ABC)\n",
    "                return False                    # Sjekker for gyldig verdi\n",
    "            ABC = acos(cos_ABC)             # Finner vinkel phi_B i [rad]\n",
    "            theta4 = 180.0 - degrees(ABC)     # Konverterer til grader\n",
    "\n",
    "            # Theta_5. \n",
    "            CAF = acos(AF / AC)         # CAF = vinkel mellom AF og CF. \n",
    "            cos_BAC = round((pow(AC, 2) + pow(self.l2, 2) - pow(self.l3, 2))/(2*self.l2*AC), 4) # Law of cosines\n",
    "            if abs(cos_BAC) > 1:\n",
    "                logger.debug('Ugyldig koblingsmekanisme, abs(cos_BAC(%s)) > 1', cos_BAC)\n",
    "                return False            # Sjekker for gyldig verdi\n",
    "            if CF < 0:                  # Hvis CF er negativ, betyr det at punkt F er over punkt C. zf flag settes til negativ for å justere vinkel CAF\n",
    "                zf_flag = -1            # Hvis F er under punkt C, er CAF positiv\n",
    "            else:\n",
    "                zf_flag = 1\n",
    "            theta5 = degrees(CAF * zf_flag + acos(cos_BAC))\n",
    "\n",
    "            # Theta_3\n",
    "            theta3 = Alpha - theta5 + theta4\n",
    "            print(\"X: \", X, \"Y: \", Y, \"Z: \", Z)\n",
    "            #print(\"theta3\", theta3, \"theta4\", theta4, \"theta5\", theta5, \"theta6\", theta6)\n",
    "            return {\"theta3\":theta3, \"theta4\":theta4, \"theta5\":theta5, \"theta6\":theta6} # Returns the angles if there is a solution"
   ]
  },
  {
   "cell_type": "code",
   "execution_count": 2,
   "metadata": {},
   "outputs": [
    {
     "name": "stdout",
     "output_type": "stream",
     "text": [
      "X:  0 Y:  6 Z:  18\n"
     ]
    },
    {
     "data": {
      "text/plain": [
       "{'theta3': -78.94697184483591,\n",
       " 'theta4': 64.01728363040571,\n",
       " 'theta5': 142.96425547524163,\n",
       " 'theta6': 90.0}"
      ]
     },
     "execution_count": 2,
     "metadata": {},
     "output_type": "execute_result"
    }
   ],
   "source": [
    "ik = IK('arm')\n",
    "ik.getRotationAngle( (0,6,18), 0)"
   ]
  }
 ],
 "metadata": {
  "kernelspec": {
   "display_name": "Python 3",
   "language": "python",
   "name": "python3"
  },
  "language_info": {
   "codemirror_mode": {
    "name": "ipython",
    "version": 3
   },
   "file_extension": ".py",
   "mimetype": "text/x-python",
   "name": "python",
   "nbconvert_exporter": "python",
   "pygments_lexer": "ipython3",
   "version": "3.12.5"
  }
 },
 "nbformat": 4,
 "nbformat_minor": 2
}
